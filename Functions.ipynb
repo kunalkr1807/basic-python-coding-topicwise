{
 "cells": [
  {
   "cell_type": "markdown",
   "id": "dcb896e3",
   "metadata": {},
   "source": [
    " #DICT PRACTICE"
   ]
  },
  {
   "cell_type": "code",
   "execution_count": 3,
   "id": "362f8ef0",
   "metadata": {},
   "outputs": [],
   "source": [
    "s=(1,2,'rgd','rgd','34',33)"
   ]
  },
  {
   "cell_type": "code",
   "execution_count": 4,
   "id": "274e53ec",
   "metadata": {},
   "outputs": [
    {
     "data": {
      "text/plain": [
       "tuple"
      ]
     },
     "execution_count": 4,
     "metadata": {},
     "output_type": "execute_result"
    }
   ],
   "source": [
    "type(s)"
   ]
  },
  {
   "cell_type": "code",
   "execution_count": 5,
   "id": "03d974e7",
   "metadata": {},
   "outputs": [],
   "source": [
    "q=set(s)"
   ]
  },
  {
   "cell_type": "code",
   "execution_count": 6,
   "id": "b730fa64",
   "metadata": {},
   "outputs": [
    {
     "data": {
      "text/plain": [
       "{1, 2, 33, '34', 'rgd'}"
      ]
     },
     "execution_count": 6,
     "metadata": {},
     "output_type": "execute_result"
    }
   ],
   "source": [
    "q"
   ]
  },
  {
   "cell_type": "code",
   "execution_count": 7,
   "id": "c5f5c398",
   "metadata": {},
   "outputs": [
    {
     "data": {
      "text/plain": [
       "set"
      ]
     },
     "execution_count": 7,
     "metadata": {},
     "output_type": "execute_result"
    }
   ],
   "source": [
    "type(q)"
   ]
  },
  {
   "cell_type": "code",
   "execution_count": 8,
   "id": "530dc769",
   "metadata": {},
   "outputs": [],
   "source": [
    "q.clear()"
   ]
  },
  {
   "cell_type": "code",
   "execution_count": 9,
   "id": "3ef2712a",
   "metadata": {},
   "outputs": [
    {
     "data": {
      "text/plain": [
       "set()"
      ]
     },
     "execution_count": 9,
     "metadata": {},
     "output_type": "execute_result"
    }
   ],
   "source": [
    "q"
   ]
  },
  {
   "cell_type": "code",
   "execution_count": 1,
   "id": "36aac3fc",
   "metadata": {},
   "outputs": [],
   "source": [
    "qwe={'as' :'ert','ab' :'12','pot' :45}"
   ]
  },
  {
   "cell_type": "code",
   "execution_count": 10,
   "id": "c4967b90",
   "metadata": {},
   "outputs": [],
   "source": [
    "qwe['std'] = 453"
   ]
  },
  {
   "cell_type": "code",
   "execution_count": 11,
   "id": "7901e309",
   "metadata": {},
   "outputs": [
    {
     "data": {
      "text/plain": [
       "{'as': 'ert', 'ab': '12', 'pot': 45, 'edc': 70, 'std': 453}"
      ]
     },
     "execution_count": 11,
     "metadata": {},
     "output_type": "execute_result"
    }
   ],
   "source": [
    "qwe"
   ]
  },
  {
   "cell_type": "code",
   "execution_count": 12,
   "id": "c4c621a7",
   "metadata": {},
   "outputs": [
    {
     "data": {
      "text/plain": [
       "453"
      ]
     },
     "execution_count": 12,
     "metadata": {},
     "output_type": "execute_result"
    }
   ],
   "source": [
    "qwe.pop('std')"
   ]
  },
  {
   "cell_type": "code",
   "execution_count": 13,
   "id": "4ee71ad8",
   "metadata": {},
   "outputs": [
    {
     "data": {
      "text/plain": [
       "{'as': 'ert', 'ab': '12', 'pot': 45, 'edc': 70}"
      ]
     },
     "execution_count": 13,
     "metadata": {},
     "output_type": "execute_result"
    }
   ],
   "source": [
    "qwe"
   ]
  },
  {
   "cell_type": "code",
   "execution_count": 15,
   "id": "3decc9a1",
   "metadata": {},
   "outputs": [],
   "source": [
    "debt={'gf':'34','rv':63, 12 :'wtg'}"
   ]
  },
  {
   "cell_type": "code",
   "execution_count": 17,
   "id": "1c9fb016",
   "metadata": {},
   "outputs": [],
   "source": [
    "qwe['ust'] = 'debt'"
   ]
  },
  {
   "cell_type": "code",
   "execution_count": 19,
   "id": "f50bb32b",
   "metadata": {},
   "outputs": [
    {
     "data": {
      "text/plain": [
       "'debt'"
      ]
     },
     "execution_count": 19,
     "metadata": {},
     "output_type": "execute_result"
    }
   ],
   "source": [
    "qwe.pop('ust','debt')"
   ]
  },
  {
   "cell_type": "code",
   "execution_count": 20,
   "id": "23a7426a",
   "metadata": {},
   "outputs": [],
   "source": [
    "qwe['req']=debt"
   ]
  },
  {
   "cell_type": "code",
   "execution_count": 32,
   "id": "3d56505c",
   "metadata": {},
   "outputs": [],
   "source": [
    "qwe['edc'] -=5"
   ]
  },
  {
   "cell_type": "code",
   "execution_count": 54,
   "id": "acb35eb4",
   "metadata": {},
   "outputs": [
    {
     "data": {
      "text/plain": [
       "{'as': 'ert',\n",
       " 'ab': '12',\n",
       " 'pot': 45,\n",
       " 'edc': 55,\n",
       " 'req': {'gf': '34', 'rv': 63, 12: 'wtg'}}"
      ]
     },
     "execution_count": 54,
     "metadata": {},
     "output_type": "execute_result"
    }
   ],
   "source": [
    "qwe"
   ]
  },
  {
   "cell_type": "code",
   "execution_count": 62,
   "id": "deb9e832",
   "metadata": {},
   "outputs": [],
   "source": [
    "for i in qwe:\n",
    "    if i == 'edc':\n",
    "        if qwe[i] > 55:\n",
    "            print('value matched')\n",
    "        else:\n",
    "            qwe[i] =71"
   ]
  },
  {
   "cell_type": "code",
   "execution_count": 63,
   "id": "8b8d2699",
   "metadata": {},
   "outputs": [
    {
     "data": {
      "text/plain": [
       "{'as': 'ert',\n",
       " 'ab': '12',\n",
       " 'pot': 45,\n",
       " 'edc': 71,\n",
       " 'req': {'gf': '34', 'rv': 63, 12: 'wtg'}}"
      ]
     },
     "execution_count": 63,
     "metadata": {},
     "output_type": "execute_result"
    }
   ],
   "source": [
    "qwe"
   ]
  },
  {
   "cell_type": "code",
   "execution_count": 69,
   "id": "74187c17",
   "metadata": {},
   "outputs": [],
   "source": [
    "mydict={}\n",
    "for i in range(1,11):\n",
    "    mydict[i]=i*i\n",
    "    \n",
    "    "
   ]
  },
  {
   "cell_type": "code",
   "execution_count": 70,
   "id": "f337aade",
   "metadata": {},
   "outputs": [
    {
     "data": {
      "text/plain": [
       "{1: 1, 2: 4, 3: 9, 4: 16, 5: 25, 6: 36, 7: 49, 8: 64, 9: 81, 10: 100}"
      ]
     },
     "execution_count": 70,
     "metadata": {},
     "output_type": "execute_result"
    }
   ],
   "source": [
    "mydict"
   ]
  },
  {
   "cell_type": "markdown",
   "id": "a8002e2b",
   "metadata": {},
   "source": [
    " #_FUNCTION"
   ]
  },
  {
   "cell_type": "code",
   "execution_count": 10,
   "id": "196c4be3",
   "metadata": {},
   "outputs": [],
   "source": [
    "def check00(x,y,z): # defining body \n",
    "    if x >19 and y > 15 and z > 10:\n",
    "        print(x+y+z)\n",
    "    elif x<10 and y>10 and z==10:\n",
    "        print(y+z)\n",
    "    else:\n",
    "        print('try again')\n",
    "    \n"
   ]
  },
  {
   "cell_type": "code",
   "execution_count": 11,
   "id": "c8521dfa",
   "metadata": {},
   "outputs": [
    {
     "name": "stdout",
     "output_type": "stream",
     "text": [
      "try again\n"
     ]
    }
   ],
   "source": [
    "check00(19,15,10) "
   ]
  },
  {
   "cell_type": "code",
   "execution_count": 12,
   "id": "8aafc93d",
   "metadata": {},
   "outputs": [],
   "source": [
    "def check01(u,p,f): # we can pass multiple parameters in return using , function.\n",
    "    return u/p+f ,u*f-p  "
   ]
  },
  {
   "cell_type": "code",
   "execution_count": 13,
   "id": "76b51f44",
   "metadata": {},
   "outputs": [],
   "source": [
    "i,o =check01(23,6,12)"
   ]
  },
  {
   "cell_type": "code",
   "execution_count": 14,
   "id": "9f61c1e2",
   "metadata": {},
   "outputs": [
    {
     "data": {
      "text/plain": [
       "15.833333333333334"
      ]
     },
     "execution_count": 14,
     "metadata": {},
     "output_type": "execute_result"
    }
   ],
   "source": [
    "i"
   ]
  },
  {
   "cell_type": "code",
   "execution_count": 15,
   "id": "11aa92f3",
   "metadata": {},
   "outputs": [
    {
     "data": {
      "text/plain": [
       "270"
      ]
     },
     "execution_count": 15,
     "metadata": {},
     "output_type": "execute_result"
    }
   ],
   "source": [
    "o"
   ]
  },
  {
   "cell_type": "code",
   "execution_count": 27,
   "id": "dca8b3c7",
   "metadata": {},
   "outputs": [],
   "source": [
    "def check02(*args):\n",
    "    w=[]\n",
    "    for i in args:\n",
    "        if type(i) == list:\n",
    "            w=w+i\n",
    "    return w"
   ]
  },
  {
   "cell_type": "code",
   "execution_count": 28,
   "id": "e41e63bb",
   "metadata": {},
   "outputs": [
    {
     "data": {
      "text/plain": [
       "['rt', 'et', 34, 'ty', 6.34, 87.45]"
      ]
     },
     "execution_count": 28,
     "metadata": {},
     "output_type": "execute_result"
    }
   ],
   "source": [
    "check02(['rt','et'],[34,'ty',6.34],[87.45],'iqu',45,'wrqo')"
   ]
  },
  {
   "cell_type": "code",
   "execution_count": 29,
   "id": "146f4af5",
   "metadata": {},
   "outputs": [
    {
     "data": {
      "text/plain": [
       "function"
      ]
     },
     "execution_count": 29,
     "metadata": {},
     "output_type": "execute_result"
    }
   ],
   "source": [
    "type(check02)"
   ]
  },
  {
   "cell_type": "code",
   "execution_count": 30,
   "id": "a23cbd2f",
   "metadata": {},
   "outputs": [],
   "source": [
    "def check03(**kwargs):\n",
    "    return kwargs"
   ]
  },
  {
   "cell_type": "code",
   "execution_count": 31,
   "id": "a07dc1a7",
   "metadata": {},
   "outputs": [
    {
     "data": {
      "text/plain": [
       "{'a': 34, 'r': 6, 'x': 12}"
      ]
     },
     "execution_count": 31,
     "metadata": {},
     "output_type": "execute_result"
    }
   ],
   "source": [
    "check03(a=34,r=6,x=12) #differ b/w args & kwargs is -args takes i/p only without positional arguments & kwargs takes only  with positional\n",
    "                   #arguemnts for eg :mri(34,6,12) will work for args but not for kwargs bcoz dosen't accept  unexpected keyword argument\n",
    "                  # & that same args will work for kwargs mri(a=34,f=6,l=12) only after variable declaration"
   ]
  },
  {
   "cell_type": "code",
   "execution_count": 51,
   "id": "f0d875dd",
   "metadata": {},
   "outputs": [],
   "source": [
    "#Q1\n",
    "def check04(*args):    \n",
    "    q1=[]\n",
    "    q2=[]\n",
    "    q3=[]\n",
    "    q4=[]\n",
    "    for i in args:\n",
    "        if type(i) == str:\n",
    "            q1.append(i)\n",
    "        elif type(i) == int:\n",
    "            q2.append(i)\n",
    "        elif type(i) == list:\n",
    "            q3.append(i)\n",
    "        elif type(i) == bool:\n",
    "            q4.append(i)\n",
    "    return q1,q2,q3,q4"
   ]
  },
  {
   "cell_type": "code",
   "execution_count": 52,
   "id": "b94610a2",
   "metadata": {},
   "outputs": [
    {
     "data": {
      "text/plain": [
       "(['qax', 'ijnm'], [87, 21], [[34], ['re', 'poqw'], ['truy']], [False, True])"
      ]
     },
     "execution_count": 52,
     "metadata": {},
     "output_type": "execute_result"
    }
   ],
   "source": [
    "check04('qax',[34],False,['re','poqw'],True,87,['truy'],'ijnm',21)"
   ]
  },
  {
   "cell_type": "code",
   "execution_count": 101,
   "id": "68a108e1",
   "metadata": {},
   "outputs": [],
   "source": [
    "## Q2. not correct\n",
    "def check05(*args ,**kwargs):\n",
    "    r1=[i for i in args if type(i) == list ]\n",
    "    r2=[i[1] for i in kwargs.items() if type(i) == list] \n",
    "    return r1,r2\n"
   ]
  },
  {
   "cell_type": "code",
   "execution_count": 102,
   "id": "82684d40",
   "metadata": {},
   "outputs": [
    {
     "data": {
      "text/plain": [
       "([['yr'], ['rooa', 'qxz']], [])"
      ]
     },
     "execution_count": 102,
     "metadata": {},
     "output_type": "execute_result"
    }
   ],
   "source": [
    "check05(23,['yr'],['rooa','qxz'], y=['ez'] , p = ['ikl','okjh'] , q = 73 , x = ['mi'] )"
   ]
  },
  {
   "cell_type": "code",
   "execution_count": 116,
   "id": "bb9a4f90",
   "metadata": {},
   "outputs": [],
   "source": [
    "def check06(**kwargs):\n",
    "    for i in kwargs.items():\n",
    "        if type(i[1]) == str and 'science' in i:\n",
    "            print('match found')\n",
    "        else:\n",
    "            print('not found')"
   ]
  },
  {
   "cell_type": "code",
   "execution_count": 117,
   "id": "79069b62",
   "metadata": {},
   "outputs": [
    {
     "name": "stdout",
     "output_type": "stream",
     "text": [
      "not found\n",
      "not found\n",
      "not found\n",
      "not found\n",
      "match found\n"
     ]
    }
   ],
   "source": [
    "check06(q=['er'],w='were',e=34,r=['iuj'],t='science')"
   ]
  },
  {
   "cell_type": "markdown",
   "id": "66e16902",
   "metadata": {},
   "source": [
    "#### anonymous/lambda  function"
   ]
  },
  {
   "cell_type": "code",
   "execution_count": 5,
   "id": "12b5a5e6",
   "metadata": {},
   "outputs": [],
   "source": [
    "u=67\n",
    "t=25\n",
    "def check07(e1,e2):\n",
    "    return e1*e2,e1+e2"
   ]
  },
  {
   "cell_type": "code",
   "execution_count": 6,
   "id": "1d102cf6",
   "metadata": {},
   "outputs": [
    {
     "data": {
      "text/plain": [
       "(1675, 92)"
      ]
     },
     "execution_count": 6,
     "metadata": {},
     "output_type": "execute_result"
    }
   ],
   "source": [
    "check07(u,t)"
   ]
  },
  {
   "cell_type": "code",
   "execution_count": 14,
   "id": "a48f545f",
   "metadata": {},
   "outputs": [],
   "source": [
    "l='we'\n",
    "s='23'\n",
    "h= lambda arg1,arg2 : print(arg1,arg2)"
   ]
  },
  {
   "cell_type": "code",
   "execution_count": 12,
   "id": "9ea910f2",
   "metadata": {},
   "outputs": [
    {
     "name": "stdout",
     "output_type": "stream",
     "text": [
      "we 23\n"
     ]
    }
   ],
   "source": [
    "h(l,s)"
   ]
  },
  {
   "cell_type": "code",
   "execution_count": 1,
   "id": "48daef50",
   "metadata": {},
   "outputs": [],
   "source": [
    "def check08(w,m):\n",
    "    '''\n",
    "    check08 is user def function\n",
    "    w=simple variable\n",
    "    m=simple variable\n",
    "    return function returns addition of W & M\n",
    "    '''\n",
    "    return w+m\n"
   ]
  },
  {
   "cell_type": "code",
   "execution_count": 4,
   "id": "002fb5d0",
   "metadata": {},
   "outputs": [
    {
     "name": "stdout",
     "output_type": "stream",
     "text": [
      "Help on function check08 in module __main__:\n",
      "\n",
      "check08(w, m)\n",
      "    check08 is user def function\n",
      "    w=simple variable\n",
      "    m=simple variable\n",
      "    return function returns addition of W & M\n",
      "\n"
     ]
    }
   ],
   "source": [
    "help(check08)"
   ]
  },
  {
   "cell_type": "code",
   "execution_count": 10,
   "id": "9341eeb2",
   "metadata": {},
   "outputs": [],
   "source": [
    "# a=5   # 'int' object is not iterable\n",
    "# for i in a:\n",
    "#     print(i)"
   ]
  },
  {
   "cell_type": "code",
   "execution_count": 8,
   "id": "37bb246f",
   "metadata": {},
   "outputs": [],
   "source": [
    "# t='doze'  # 'str' object is not an iterator\n",
    "# next(t)"
   ]
  },
  {
   "cell_type": "code",
   "execution_count": null,
   "id": "b40bd1f0",
   "metadata": {},
   "outputs": [],
   "source": []
  }
 ],
 "metadata": {
  "kernelspec": {
   "display_name": "Python 3 (ipykernel)",
   "language": "python",
   "name": "python3"
  },
  "language_info": {
   "codemirror_mode": {
    "name": "ipython",
    "version": 3
   },
   "file_extension": ".py",
   "mimetype": "text/x-python",
   "name": "python",
   "nbconvert_exporter": "python",
   "pygments_lexer": "ipython3",
   "version": "3.9.12"
  }
 },
 "nbformat": 4,
 "nbformat_minor": 5
}
